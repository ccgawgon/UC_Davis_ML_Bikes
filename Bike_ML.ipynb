{
 "cells": [
  {
   "cell_type": "code",
   "execution_count": null,
   "id": "506f3a3b",
   "metadata": {},
   "outputs": [],
   "source": [
    "# Imports Here"
   ]
  },
  {
   "cell_type": "code",
   "execution_count": null,
   "id": "260e6a8d",
   "metadata": {},
   "outputs": [],
   "source": [
    "# Cell 1 Here"
   ]
  },
  {
   "cell_type": "code",
   "execution_count": null,
   "id": "9a0aeef9",
   "metadata": {},
   "outputs": [],
   "source": [
    "# Cell 2 Here"
   ]
  },
  {
   "cell_type": "code",
   "execution_count": null,
   "id": "188275cb",
   "metadata": {},
   "outputs": [],
   "source": [
    "# Cell 3 Here"
   ]
  }
 ],
 "metadata": {
  "kernelspec": {
   "display_name": "Python 3 (ipykernel)",
   "language": "python",
   "name": "python3"
  },
  "language_info": {
   "codemirror_mode": {
    "name": "ipython",
    "version": 3
   },
   "file_extension": ".py",
   "mimetype": "text/x-python",
   "name": "python",
   "nbconvert_exporter": "python",
   "pygments_lexer": "ipython3",
   "version": "3.9.13"
  }
 },
 "nbformat": 4,
 "nbformat_minor": 5
}
