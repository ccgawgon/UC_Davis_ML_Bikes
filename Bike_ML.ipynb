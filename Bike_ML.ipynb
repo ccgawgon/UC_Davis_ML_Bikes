{
 "cells": [
  {
   "cell_type": "code",
   "execution_count": null,
   "id": "506f3a3b",
   "metadata": {},
   "outputs": [],
   "source": [
    "import pandas as pd\n",
    "import matplotlib.pyplot as plt\n",
    "\n",
    "# Helper function\n",
    "def findMinMax(data):\n",
    "  q1 = data.quantile(0.25)\n",
    "  q3 = data.quantile(0.75)\n",
    "  min = q1 - 1.5 * (q3 - q1)\n",
    "  max = q3 + 1.5 * (q3 - q1)\n",
    "  return min, max\n",
    "\n",
    "# Function to help us visualize the outliers. Produce boxplot and print out outliers\n",
    "def getOutliers(data, features):\n",
    "  for i, feature in enumerate(features, 1):\n",
    "    plt.subplot(1,len(features),i)\n",
    "    data[[feature]].boxplot()\n",
    "    \n",
    "    min, max = findMinMax(data[feature])\n",
    "    outliers_lower = data[feature] < min\n",
    "    outliers_upper = data[feature] > max\n",
    "    \n",
    "    if outliers_lower.any():\n",
    "      print(feature, \"- Lower outliers:\\n\", data.loc[outliers_lower, feature])\n",
    "    if outliers_upper.any():\n",
    "      print(feature, \"- Upper outliers:\\n\", data.loc[outliers_upper, feature])\n",
    "\n",
    "  plt.show()\n",
    "  \n",
    "\n",
    "# Return a new set of data with outliers removed\n",
    "def removeOutliers(data, features):\n",
    "  removeIdx = pd.Series([False] * len(data))\n",
    "  for i, feature in enumerate(features):\n",
    "    min, max = findMinMax(data[feature])\n",
    "    outliers_lower = data[feature] < min\n",
    "    outliers_upper = data[feature] > max\n",
    "    \n",
    "    removeIdx = removeIdx | outliers_lower | outliers_upper\n",
    "\n",
    "  return newData.loc[~removeIdx]\n",
    "  \n",
    "\n",
    "\n",
    "# Testing code\n",
    "data = pd.DataFrame(pd.read_csv('./SeoulBikeData.csv'))\n",
    "features = ['Rented Bike Count', 'Wind speed (m/s)']\n",
    "\n",
    "getOutliers(data, features)\n",
    "\n",
    "newData = removeOutliers(data, features)\n",
    "getOutliers(newData, features)"
   ]
  },
  {
   "cell_type": "code",
   "execution_count": null,
   "id": "260e6a8d",
   "metadata": {},
   "outputs": [],
   "source": [
    "# Cell 1 Here"
   ]
  },
  {
   "cell_type": "code",
   "execution_count": null,
   "id": "9a0aeef9",
   "metadata": {},
   "outputs": [],
   "source": [
    "# Cell 2 Here"
   ]
  },
  {
   "cell_type": "code",
   "execution_count": null,
   "id": "188275cb",
   "metadata": {},
   "outputs": [],
   "source": [
    "# Cell 3 Here"
   ]
  }
 ],
 "metadata": {
  "kernelspec": {
   "display_name": "Python 3 (ipykernel)",
   "language": "python",
   "name": "python3"
  },
  "language_info": {
   "codemirror_mode": {
    "name": "ipython",
    "version": 3
   },
   "file_extension": ".py",
   "mimetype": "text/x-python",
   "name": "python",
   "nbconvert_exporter": "python",
   "pygments_lexer": "ipython3",
   "version": "3.9.13"
  }
 },
 "nbformat": 4,
 "nbformat_minor": 5
}
